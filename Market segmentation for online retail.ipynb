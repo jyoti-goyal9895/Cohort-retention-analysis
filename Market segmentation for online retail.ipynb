{
 "cells": [
  {
   "cell_type": "code",
   "execution_count": 70,
   "id": "482aa72e",
   "metadata": {},
   "outputs": [],
   "source": [
    "import pandas as pd\n",
    "import numpy as np\n",
    "import datetime as dt\n",
    "import matplotlib.pyplot as plt\n",
    "import seaborn as sns"
   ]
  },
  {
   "cell_type": "code",
   "execution_count": 2,
   "id": "d6e0c979",
   "metadata": {},
   "outputs": [],
   "source": [
    "data = pd.read_excel(r'C:\\Users\\jyoti\\Documents\\Course\\Online_Retail.xlsx')"
   ]
  },
  {
   "cell_type": "code",
   "execution_count": 3,
   "id": "81eece2a",
   "metadata": {},
   "outputs": [
    {
     "data": {
      "text/html": [
       "<div>\n",
       "<style scoped>\n",
       "    .dataframe tbody tr th:only-of-type {\n",
       "        vertical-align: middle;\n",
       "    }\n",
       "\n",
       "    .dataframe tbody tr th {\n",
       "        vertical-align: top;\n",
       "    }\n",
       "\n",
       "    .dataframe thead th {\n",
       "        text-align: right;\n",
       "    }\n",
       "</style>\n",
       "<table border=\"1\" class=\"dataframe\">\n",
       "  <thead>\n",
       "    <tr style=\"text-align: right;\">\n",
       "      <th></th>\n",
       "      <th>InvoiceNo</th>\n",
       "      <th>StockCode</th>\n",
       "      <th>Description</th>\n",
       "      <th>Quantity</th>\n",
       "      <th>InvoiceDate</th>\n",
       "      <th>UnitPrice</th>\n",
       "      <th>CustomerID</th>\n",
       "      <th>Country</th>\n",
       "    </tr>\n",
       "  </thead>\n",
       "  <tbody>\n",
       "    <tr>\n",
       "      <th>0</th>\n",
       "      <td>536365</td>\n",
       "      <td>85123A</td>\n",
       "      <td>WHITE HANGING HEART T-LIGHT HOLDER</td>\n",
       "      <td>6</td>\n",
       "      <td>2010-12-01 08:26:00</td>\n",
       "      <td>2.55</td>\n",
       "      <td>17850.0</td>\n",
       "      <td>United Kingdom</td>\n",
       "    </tr>\n",
       "    <tr>\n",
       "      <th>1</th>\n",
       "      <td>536365</td>\n",
       "      <td>71053</td>\n",
       "      <td>WHITE METAL LANTERN</td>\n",
       "      <td>6</td>\n",
       "      <td>2010-12-01 08:26:00</td>\n",
       "      <td>3.39</td>\n",
       "      <td>17850.0</td>\n",
       "      <td>United Kingdom</td>\n",
       "    </tr>\n",
       "    <tr>\n",
       "      <th>2</th>\n",
       "      <td>536365</td>\n",
       "      <td>84406B</td>\n",
       "      <td>CREAM CUPID HEARTS COAT HANGER</td>\n",
       "      <td>8</td>\n",
       "      <td>2010-12-01 08:26:00</td>\n",
       "      <td>2.75</td>\n",
       "      <td>17850.0</td>\n",
       "      <td>United Kingdom</td>\n",
       "    </tr>\n",
       "    <tr>\n",
       "      <th>3</th>\n",
       "      <td>536365</td>\n",
       "      <td>84029G</td>\n",
       "      <td>KNITTED UNION FLAG HOT WATER BOTTLE</td>\n",
       "      <td>6</td>\n",
       "      <td>2010-12-01 08:26:00</td>\n",
       "      <td>3.39</td>\n",
       "      <td>17850.0</td>\n",
       "      <td>United Kingdom</td>\n",
       "    </tr>\n",
       "    <tr>\n",
       "      <th>4</th>\n",
       "      <td>536365</td>\n",
       "      <td>84029E</td>\n",
       "      <td>RED WOOLLY HOTTIE WHITE HEART.</td>\n",
       "      <td>6</td>\n",
       "      <td>2010-12-01 08:26:00</td>\n",
       "      <td>3.39</td>\n",
       "      <td>17850.0</td>\n",
       "      <td>United Kingdom</td>\n",
       "    </tr>\n",
       "  </tbody>\n",
       "</table>\n",
       "</div>"
      ],
      "text/plain": [
       "  InvoiceNo StockCode                          Description  Quantity  \\\n",
       "0    536365    85123A   WHITE HANGING HEART T-LIGHT HOLDER         6   \n",
       "1    536365     71053                  WHITE METAL LANTERN         6   \n",
       "2    536365    84406B       CREAM CUPID HEARTS COAT HANGER         8   \n",
       "3    536365    84029G  KNITTED UNION FLAG HOT WATER BOTTLE         6   \n",
       "4    536365    84029E       RED WOOLLY HOTTIE WHITE HEART.         6   \n",
       "\n",
       "          InvoiceDate  UnitPrice  CustomerID         Country  \n",
       "0 2010-12-01 08:26:00       2.55     17850.0  United Kingdom  \n",
       "1 2010-12-01 08:26:00       3.39     17850.0  United Kingdom  \n",
       "2 2010-12-01 08:26:00       2.75     17850.0  United Kingdom  \n",
       "3 2010-12-01 08:26:00       3.39     17850.0  United Kingdom  \n",
       "4 2010-12-01 08:26:00       3.39     17850.0  United Kingdom  "
      ]
     },
     "execution_count": 3,
     "metadata": {},
     "output_type": "execute_result"
    }
   ],
   "source": [
    "data.head()"
   ]
  },
  {
   "cell_type": "code",
   "execution_count": 4,
   "id": "e6fff7e2",
   "metadata": {},
   "outputs": [
    {
     "data": {
      "text/plain": [
       "(541909, 8)"
      ]
     },
     "execution_count": 4,
     "metadata": {},
     "output_type": "execute_result"
    }
   ],
   "source": [
    "data.shape"
   ]
  },
  {
   "cell_type": "code",
   "execution_count": 8,
   "id": "1a7facd8",
   "metadata": {},
   "outputs": [
    {
     "name": "stdout",
     "output_type": "stream",
     "text": [
      "<class 'pandas.core.frame.DataFrame'>\n",
      "RangeIndex: 541909 entries, 0 to 541908\n",
      "Data columns (total 8 columns):\n",
      " #   Column       Non-Null Count   Dtype         \n",
      "---  ------       --------------   -----         \n",
      " 0   InvoiceNo    541909 non-null  object        \n",
      " 1   StockCode    541909 non-null  object        \n",
      " 2   Description  540455 non-null  object        \n",
      " 3   Quantity     541909 non-null  int64         \n",
      " 4   InvoiceDate  541909 non-null  datetime64[ns]\n",
      " 5   UnitPrice    541909 non-null  float64       \n",
      " 6   CustomerID   406829 non-null  float64       \n",
      " 7   Country      541909 non-null  object        \n",
      "dtypes: datetime64[ns](1), float64(2), int64(1), object(4)\n",
      "memory usage: 33.1+ MB\n"
     ]
    }
   ],
   "source": [
    "data.info()"
   ]
  },
  {
   "cell_type": "markdown",
   "id": "9d72eef0",
   "metadata": {},
   "source": [
    "## Data Exploration"
   ]
  },
  {
   "cell_type": "code",
   "execution_count": 11,
   "id": "8edf2466",
   "metadata": {},
   "outputs": [],
   "source": [
    "data['CustomerID'] = data['CustomerID'].astype('str')"
   ]
  },
  {
   "cell_type": "code",
   "execution_count": 12,
   "id": "fe9f0fec",
   "metadata": {},
   "outputs": [
    {
     "data": {
      "text/html": [
       "<div>\n",
       "<style scoped>\n",
       "    .dataframe tbody tr th:only-of-type {\n",
       "        vertical-align: middle;\n",
       "    }\n",
       "\n",
       "    .dataframe tbody tr th {\n",
       "        vertical-align: top;\n",
       "    }\n",
       "\n",
       "    .dataframe thead th {\n",
       "        text-align: right;\n",
       "    }\n",
       "</style>\n",
       "<table border=\"1\" class=\"dataframe\">\n",
       "  <thead>\n",
       "    <tr style=\"text-align: right;\">\n",
       "      <th></th>\n",
       "      <th>Quantity</th>\n",
       "      <th>UnitPrice</th>\n",
       "    </tr>\n",
       "  </thead>\n",
       "  <tbody>\n",
       "    <tr>\n",
       "      <th>count</th>\n",
       "      <td>541909.000000</td>\n",
       "      <td>541909.000000</td>\n",
       "    </tr>\n",
       "    <tr>\n",
       "      <th>mean</th>\n",
       "      <td>9.552250</td>\n",
       "      <td>4.611114</td>\n",
       "    </tr>\n",
       "    <tr>\n",
       "      <th>std</th>\n",
       "      <td>218.081158</td>\n",
       "      <td>96.759853</td>\n",
       "    </tr>\n",
       "    <tr>\n",
       "      <th>min</th>\n",
       "      <td>-80995.000000</td>\n",
       "      <td>-11062.060000</td>\n",
       "    </tr>\n",
       "    <tr>\n",
       "      <th>25%</th>\n",
       "      <td>1.000000</td>\n",
       "      <td>1.250000</td>\n",
       "    </tr>\n",
       "    <tr>\n",
       "      <th>50%</th>\n",
       "      <td>3.000000</td>\n",
       "      <td>2.080000</td>\n",
       "    </tr>\n",
       "    <tr>\n",
       "      <th>75%</th>\n",
       "      <td>10.000000</td>\n",
       "      <td>4.130000</td>\n",
       "    </tr>\n",
       "    <tr>\n",
       "      <th>max</th>\n",
       "      <td>80995.000000</td>\n",
       "      <td>38970.000000</td>\n",
       "    </tr>\n",
       "  </tbody>\n",
       "</table>\n",
       "</div>"
      ],
      "text/plain": [
       "            Quantity      UnitPrice\n",
       "count  541909.000000  541909.000000\n",
       "mean        9.552250       4.611114\n",
       "std       218.081158      96.759853\n",
       "min    -80995.000000  -11062.060000\n",
       "25%         1.000000       1.250000\n",
       "50%         3.000000       2.080000\n",
       "75%        10.000000       4.130000\n",
       "max     80995.000000   38970.000000"
      ]
     },
     "execution_count": 12,
     "metadata": {},
     "output_type": "execute_result"
    }
   ],
   "source": [
    "data.describe()"
   ]
  },
  {
   "cell_type": "code",
   "execution_count": 24,
   "id": "d342c57c",
   "metadata": {},
   "outputs": [
    {
     "data": {
      "image/png": "[encoded data removed]",
      "text/plain": [
       "<Figure size 1440x720 with 1 Axes>"
      ]
     },
     "metadata": {
      "needs_background": "light"
     },
     "output_type": "display_data"
    }
   ],
   "source": [
    "data.boxplot(figsize = (20,10))\n",
    "plt.show()"
   ]
  },
  {
   "cell_type": "code",
   "execution_count": 55,
   "id": "d718c932",
   "metadata": {},
   "outputs": [],
   "source": [
    "# Spend per customer\n",
    "data['Revenue'] = data['Quantity']*data['UnitPrice']"
   ]
  },
  {
   "cell_type": "code",
   "execution_count": 63,
   "id": "a2fad977",
   "metadata": {
    "scrolled": true
   },
   "outputs": [
    {
     "data": {
      "image/png": "[encoded data removed]",
      "text/plain": [
       "<Figure size 432x288 with 1 Axes>"
      ]
     },
     "metadata": {
      "needs_background": "light"
     },
     "output_type": "display_data"
    }
   ],
   "source": [
    "data.boxplot(column = ['Revenue'])\n",
    "plt.show()\n",
    "\n",
    "# Can we say using this that a lot of customers return a good proportion of what they buy?"
   ]
  },
  {
   "cell_type": "code",
   "execution_count": 16,
   "id": "00745132",
   "metadata": {},
   "outputs": [
    {
     "name": "stdout",
     "output_type": "stream",
     "text": [
      "2010-12-01 08:26:00 , 2011-12-09 12:50:00\n"
     ]
    }
   ],
   "source": [
    "# Data time span\n",
    "print(data['InvoiceDate'].min(), \",\", data['InvoiceDate'].max())"
   ]
  },
  {
   "cell_type": "code",
   "execution_count": 22,
   "id": "5a1011ab",
   "metadata": {},
   "outputs": [
    {
     "name": "stdout",
     "output_type": "stream",
     "text": [
      "(10624, 8)\n",
      "(0, 8)\n"
     ]
    }
   ],
   "source": [
    "## Checking for negative or zero quantity\n",
    "print(data[data['Quantity'] < 0].shape)\n",
    "print(data[data['Quantity'] == 0].shape)"
   ]
  },
  {
   "cell_type": "code",
   "execution_count": 18,
   "id": "e1dcdbac",
   "metadata": {},
   "outputs": [
    {
     "name": "stdout",
     "output_type": "stream",
     "text": [
      "(2, 8)\n",
      "(2515, 8)\n"
     ]
    }
   ],
   "source": [
    "## Checking for negative or zero unit price\n",
    "print(data[data['UnitPrice'] < 0].shape)\n",
    "print(data[data['UnitPrice'] == 0].shape)"
   ]
  },
  {
   "cell_type": "code",
   "execution_count": 25,
   "id": "4652737e",
   "metadata": {},
   "outputs": [
    {
     "data": {
      "text/html": [
       "<div>\n",
       "<style scoped>\n",
       "    .dataframe tbody tr th:only-of-type {\n",
       "        vertical-align: middle;\n",
       "    }\n",
       "\n",
       "    .dataframe tbody tr th {\n",
       "        vertical-align: top;\n",
       "    }\n",
       "\n",
       "    .dataframe thead th {\n",
       "        text-align: right;\n",
       "    }\n",
       "</style>\n",
       "<table border=\"1\" class=\"dataframe\">\n",
       "  <thead>\n",
       "    <tr style=\"text-align: right;\">\n",
       "      <th></th>\n",
       "      <th>InvoiceNo</th>\n",
       "      <th>StockCode</th>\n",
       "      <th>Description</th>\n",
       "      <th>Quantity</th>\n",
       "      <th>InvoiceDate</th>\n",
       "      <th>UnitPrice</th>\n",
       "      <th>CustomerID</th>\n",
       "      <th>Country</th>\n",
       "    </tr>\n",
       "  </thead>\n",
       "  <tbody>\n",
       "    <tr>\n",
       "      <th>299983</th>\n",
       "      <td>A563186</td>\n",
       "      <td>B</td>\n",
       "      <td>Adjust bad debt</td>\n",
       "      <td>1</td>\n",
       "      <td>2011-08-12 14:51:00</td>\n",
       "      <td>-11062.06</td>\n",
       "      <td>nan</td>\n",
       "      <td>United Kingdom</td>\n",
       "    </tr>\n",
       "    <tr>\n",
       "      <th>299984</th>\n",
       "      <td>A563187</td>\n",
       "      <td>B</td>\n",
       "      <td>Adjust bad debt</td>\n",
       "      <td>1</td>\n",
       "      <td>2011-08-12 14:52:00</td>\n",
       "      <td>-11062.06</td>\n",
       "      <td>nan</td>\n",
       "      <td>United Kingdom</td>\n",
       "    </tr>\n",
       "  </tbody>\n",
       "</table>\n",
       "</div>"
      ],
      "text/plain": [
       "       InvoiceNo StockCode      Description  Quantity         InvoiceDate  \\\n",
       "299983   A563186         B  Adjust bad debt         1 2011-08-12 14:51:00   \n",
       "299984   A563187         B  Adjust bad debt         1 2011-08-12 14:52:00   \n",
       "\n",
       "        UnitPrice CustomerID         Country  \n",
       "299983  -11062.06        nan  United Kingdom  \n",
       "299984  -11062.06        nan  United Kingdom  "
      ]
     },
     "execution_count": 25,
     "metadata": {},
     "output_type": "execute_result"
    }
   ],
   "source": [
    "## Records with negative price. Could be price adjustments.\n",
    "data[data['UnitPrice'] < 0]\n",
    "\n",
    "# Seems like these records are price adjustments for accounting purposes as description says 'Adjust bad debt' and no customer is related to it "
   ]
  },
  {
   "cell_type": "markdown",
   "id": "0ac2faf2",
   "metadata": {},
   "source": [
    "## Product analysis"
   ]
  },
  {
   "cell_type": "code",
   "execution_count": 21,
   "id": "2c48da54",
   "metadata": {},
   "outputs": [
    {
     "data": {
      "text/plain": [
       "(377,)"
      ]
     },
     "execution_count": 21,
     "metadata": {},
     "output_type": "execute_result"
    }
   ],
   "source": [
    "## Products with 0 price\n",
    "data[data['UnitPrice'] == 0]['Description'].unique().shape"
   ]
  },
  {
   "cell_type": "code",
   "execution_count": 38,
   "id": "630ceff7",
   "metadata": {},
   "outputs": [
    {
     "name": "stdout",
     "output_type": "stream",
     "text": [
      "(10624, 8)\n",
      "(2111,)\n",
      "['Discount' 'SET OF 3 COLOURED  FLYING DUCKS'\n",
      " 'PLASTERS IN TIN CIRCUS PARADE ' ... 'SMALL SQUARE CUT GLASS CANDLESTICK'\n",
      " 'HOUSE SHAPE PENCIL SHARPENER' 'PAPER CRAFT , LITTLE BIRDIE']\n",
      "(77, 8)\n"
     ]
    }
   ],
   "source": [
    "## Products with negative quantity. Are these reversals?\n",
    "print(data[data['Quantity'] < 0].shape)\n",
    "print(data[data['Quantity'] < 0]['Description'].unique().shape)\n",
    "print(data[data['Quantity'] < 0]['Description'].unique())\n",
    "print(data[(data['Quantity'] < 0) & (data['Description'] == 'Discount')].shape)"
   ]
  },
  {
   "cell_type": "code",
   "execution_count": 41,
   "id": "018aac48",
   "metadata": {},
   "outputs": [
    {
     "data": {
      "text/plain": [
       "array(['D'], dtype=object)"
      ]
     },
     "execution_count": 41,
     "metadata": {},
     "output_type": "execute_result"
    }
   ],
   "source": [
    "data[(data['Quantity'] < 0) & (data['Description'] == 'Discount')]['StockCode'].unique()"
   ]
  },
  {
   "cell_type": "markdown",
   "id": "e2a42187",
   "metadata": {},
   "source": [
    "#### Revenue from each product"
   ]
  },
  {
   "cell_type": "code",
   "execution_count": 71,
   "id": "0819afd4",
   "metadata": {},
   "outputs": [
    {
     "data": {
      "text/plain": [
       "Description\n",
       "20713                              0.000000\n",
       " 4 PURPLE FLOCK DINNER CANDLES     7.092683\n",
       " 50'S CHRISTMAS GIFT BAG LARGE    18.008692\n",
       " DOLLY GIRL BEAKER                15.925414\n",
       " I LOVE LONDON MINI BACKPACK      18.501932\n",
       "                                    ...    \n",
       "wrongly marked carton 22804        0.000000\n",
       "wrongly marked. 23343 in box       0.000000\n",
       "wrongly sold (22719) barcode       0.000000\n",
       "wrongly sold as sets               0.000000\n",
       "wrongly sold sets                  0.000000\n",
       "Name: Revenue, Length: 4223, dtype: float64"
      ]
     },
     "execution_count": 71,
     "metadata": {},
     "output_type": "execute_result"
    }
   ],
   "source": [
    "product_rev = data.groupby('Description')['Revenue'].mean()\n",
    "product_rev"
   ]
  },
  {
   "cell_type": "code",
   "execution_count": 67,
   "id": "f2e686be",
   "metadata": {},
   "outputs": [
    {
     "data": {
      "text/plain": [
       "17.40500462600522"
      ]
     },
     "execution_count": 67,
     "metadata": {},
     "output_type": "execute_result"
    }
   ],
   "source": [
    "(data.groupby('Description')['Revenue'].mean()).mean()"
   ]
  },
  {
   "cell_type": "code",
   "execution_count": 73,
   "id": "93e42254",
   "metadata": {},
   "outputs": [
    {
     "name": "stdout",
     "output_type": "stream",
     "text": [
      "19809.75\n",
      "Description\n",
      "PICNIC BASKET WICKER 60 PIECES    19809.75\n",
      "Name: Revenue, dtype: float64\n"
     ]
    }
   ],
   "source": [
    "# Highest revenue generating product\n",
    "print((product_rev).max())\n",
    "print(product_rev[product_rev == product_rev.max()])"
   ]
  },
  {
   "cell_type": "code",
   "execution_count": 99,
   "id": "38a584b3",
   "metadata": {},
   "outputs": [
    {
     "data": {
      "image/png": "[encoded data removed]",
      "text/plain": [
       "<Figure size 432x288 with 1 Axes>"
      ]
     },
     "metadata": {
      "needs_background": "light"
     },
     "output_type": "display_data"
    }
   ],
   "source": [
    "data[data['Description'] == 'PICNIC BASKET WICKER 60 PIECES'][['Quantity', 'UnitPrice']].boxplot()\n",
    "plt.show()\n",
    "\n",
    "## Seems like a premium product - high price low volume?? Check the records to confirm"
   ]
  },
  {
   "cell_type": "code",
   "execution_count": 101,
   "id": "2efff30d",
   "metadata": {},
   "outputs": [
    {
     "data": {
      "text/html": [
       "<div>\n",
       "<style scoped>\n",
       "    .dataframe tbody tr th:only-of-type {\n",
       "        vertical-align: middle;\n",
       "    }\n",
       "\n",
       "    .dataframe tbody tr th {\n",
       "        vertical-align: top;\n",
       "    }\n",
       "\n",
       "    .dataframe thead th {\n",
       "        text-align: right;\n",
       "    }\n",
       "</style>\n",
       "<table border=\"1\" class=\"dataframe\">\n",
       "  <thead>\n",
       "    <tr style=\"text-align: right;\">\n",
       "      <th></th>\n",
       "      <th>Quantity</th>\n",
       "      <th>UnitPrice</th>\n",
       "    </tr>\n",
       "  </thead>\n",
       "  <tbody>\n",
       "    <tr>\n",
       "      <th>222680</th>\n",
       "      <td>60</td>\n",
       "      <td>649.5</td>\n",
       "    </tr>\n",
       "    <tr>\n",
       "      <th>222682</th>\n",
       "      <td>1</td>\n",
       "      <td>649.5</td>\n",
       "    </tr>\n",
       "  </tbody>\n",
       "</table>\n",
       "</div>"
      ],
      "text/plain": [
       "        Quantity  UnitPrice\n",
       "222680        60      649.5\n",
       "222682         1      649.5"
      ]
     },
     "execution_count": 101,
     "metadata": {},
     "output_type": "execute_result"
    }
   ],
   "source": [
    "data[data['Description'] == 'PICNIC BASKET WICKER 60 PIECES'][['Quantity', 'UnitPrice']]\n",
    "\n",
    "## Seems like only 1 transaction corresponding to Quantity = 60 made it the highest revenue generating product. \n",
    "## We need to dig deep"
   ]
  },
  {
   "cell_type": "code",
   "execution_count": 74,
   "id": "d17c5036",
   "metadata": {},
   "outputs": [
    {
     "name": "stdout",
     "output_type": "stream",
     "text": [
      "-6515.308823529413\n",
      "Description\n",
      "AMAZON FEE   -6515.308824\n",
      "Name: Revenue, dtype: float64\n"
     ]
    }
   ],
   "source": [
    "# Lowest revenue generating product. Is our store paying this to amazon to sell the products?\n",
    "print((product_rev).min())\n",
    "print(product_rev[product_rev == product_rev.min()])"
   ]
  },
  {
   "cell_type": "code",
   "execution_count": 100,
   "id": "c7355cf3",
   "metadata": {},
   "outputs": [
    {
     "data": {
      "image/png": "[encoded data removed]",
      "text/plain": [
       "<Figure size 432x288 with 1 Axes>"
      ]
     },
     "metadata": {
      "needs_background": "light"
     },
     "output_type": "display_data"
    }
   ],
   "source": [
    "data[data['Description'] == 'AMAZON FEE'][['Quantity', 'UnitPrice']].boxplot()\n",
    "plt.show()"
   ]
  },
  {
   "cell_type": "code",
   "execution_count": 77,
   "id": "384edabb",
   "metadata": {},
   "outputs": [
    {
     "name": "stdout",
     "output_type": "stream",
     "text": [
      "1\n",
      "-1\n",
      "17836.46\n",
      "1.0\n"
     ]
    }
   ],
   "source": [
    "print(data[data['Description'] == 'AMAZON FEE']['Quantity'].max())\n",
    "print(data[data['Description'] == 'AMAZON FEE']['Quantity'].min())\n",
    "print(data[data['Description'] == 'AMAZON FEE']['UnitPrice'].max())\n",
    "print(data[data['Description'] == 'AMAZON FEE']['UnitPrice'].min())"
   ]
  },
  {
   "cell_type": "code",
   "execution_count": 109,
   "id": "9cd3e0e4",
   "metadata": {},
   "outputs": [
    {
     "name": "stdout",
     "output_type": "stream",
     "text": [
      "Description\n",
      "CRUK Commission   -495.839375\n",
      "Name: Revenue, dtype: float64\n"
     ]
    }
   ],
   "source": [
    "# Removing Amazon fee because that is probably what is the store is paying to amazon for using its platform. It is not a product\n",
    "data3 = data.drop(data.index[data['Description'] == 'AMAZON FEE'])\n",
    "data4 = data3.drop(data.index[data['Description'] == 'Adjust bad debt'])\n",
    "\n",
    "prod_low_rev = data4.groupby('Description')['Revenue'].mean()\n",
    "print(prod_low_rev[prod_low_rev == prod_low_rev.min()])"
   ]
  },
  {
   "cell_type": "code",
   "execution_count": 110,
   "id": "467c6af6",
   "metadata": {},
   "outputs": [
    {
     "data": {
      "image/png": "[encoded data removed]",
      "text/plain": [
       "<Figure size 432x288 with 1 Axes>"
      ]
     },
     "metadata": {
      "needs_background": "light"
     },
     "output_type": "display_data"
    }
   ],
   "source": [
    "data[data['Description'] == 'CRUK Commission'][['Quantity', 'UnitPrice']].boxplot()\n",
    "plt.show()"
   ]
  },
  {
   "cell_type": "code",
   "execution_count": 111,
   "id": "8721c42e",
   "metadata": {},
   "outputs": [
    {
     "data": {
      "text/html": [
       "<div>\n",
       "<style scoped>\n",
       "    .dataframe tbody tr th:only-of-type {\n",
       "        vertical-align: middle;\n",
       "    }\n",
       "\n",
       "    .dataframe tbody tr th {\n",
       "        vertical-align: top;\n",
       "    }\n",
       "\n",
       "    .dataframe thead th {\n",
       "        text-align: right;\n",
       "    }\n",
       "</style>\n",
       "<table border=\"1\" class=\"dataframe\">\n",
       "  <thead>\n",
       "    <tr style=\"text-align: right;\">\n",
       "      <th></th>\n",
       "      <th>Quantity</th>\n",
       "      <th>UnitPrice</th>\n",
       "    </tr>\n",
       "  </thead>\n",
       "  <tbody>\n",
       "    <tr>\n",
       "      <th>317508</th>\n",
       "      <td>-1</td>\n",
       "      <td>1.60</td>\n",
       "    </tr>\n",
       "    <tr>\n",
       "      <th>324023</th>\n",
       "      <td>-1</td>\n",
       "      <td>13.01</td>\n",
       "    </tr>\n",
       "    <tr>\n",
       "      <th>333779</th>\n",
       "      <td>-1</td>\n",
       "      <td>15.96</td>\n",
       "    </tr>\n",
       "    <tr>\n",
       "      <th>338848</th>\n",
       "      <td>-1</td>\n",
       "      <td>52.24</td>\n",
       "    </tr>\n",
       "    <tr>\n",
       "      <th>351003</th>\n",
       "      <td>-1</td>\n",
       "      <td>608.66</td>\n",
       "    </tr>\n",
       "    <tr>\n",
       "      <th>361603</th>\n",
       "      <td>-1</td>\n",
       "      <td>447.56</td>\n",
       "    </tr>\n",
       "    <tr>\n",
       "      <th>372785</th>\n",
       "      <td>-1</td>\n",
       "      <td>361.59</td>\n",
       "    </tr>\n",
       "    <tr>\n",
       "      <th>390002</th>\n",
       "      <td>-1</td>\n",
       "      <td>411.92</td>\n",
       "    </tr>\n",
       "    <tr>\n",
       "      <th>401767</th>\n",
       "      <td>-1</td>\n",
       "      <td>495.98</td>\n",
       "    </tr>\n",
       "    <tr>\n",
       "      <th>416464</th>\n",
       "      <td>-1</td>\n",
       "      <td>425.14</td>\n",
       "    </tr>\n",
       "    <tr>\n",
       "      <th>429996</th>\n",
       "      <td>-1</td>\n",
       "      <td>606.00</td>\n",
       "    </tr>\n",
       "    <tr>\n",
       "      <th>455284</th>\n",
       "      <td>-1</td>\n",
       "      <td>517.51</td>\n",
       "    </tr>\n",
       "    <tr>\n",
       "      <th>467437</th>\n",
       "      <td>-1</td>\n",
       "      <td>1038.75</td>\n",
       "    </tr>\n",
       "    <tr>\n",
       "      <th>494745</th>\n",
       "      <td>-1</td>\n",
       "      <td>849.93</td>\n",
       "    </tr>\n",
       "    <tr>\n",
       "      <th>508561</th>\n",
       "      <td>-1</td>\n",
       "      <td>987.14</td>\n",
       "    </tr>\n",
       "    <tr>\n",
       "      <th>528087</th>\n",
       "      <td>-1</td>\n",
       "      <td>1100.44</td>\n",
       "    </tr>\n",
       "  </tbody>\n",
       "</table>\n",
       "</div>"
      ],
      "text/plain": [
       "        Quantity  UnitPrice\n",
       "317508        -1       1.60\n",
       "324023        -1      13.01\n",
       "333779        -1      15.96\n",
       "338848        -1      52.24\n",
       "351003        -1     608.66\n",
       "361603        -1     447.56\n",
       "372785        -1     361.59\n",
       "390002        -1     411.92\n",
       "401767        -1     495.98\n",
       "416464        -1     425.14\n",
       "429996        -1     606.00\n",
       "455284        -1     517.51\n",
       "467437        -1    1038.75\n",
       "494745        -1     849.93\n",
       "508561        -1     987.14\n",
       "528087        -1    1100.44"
      ]
     },
     "execution_count": 111,
     "metadata": {},
     "output_type": "execute_result"
    }
   ],
   "source": [
    "data[data['Description'] == 'CRUK Commission'][['Quantity', 'UnitPrice']]\n",
    "## Why so volatile prices? Seems like this product has always returned. But how can it be returned if not bought?"
   ]
  },
  {
   "cell_type": "code",
   "execution_count": 79,
   "id": "3e28311f",
   "metadata": {},
   "outputs": [
    {
     "data": {
      "text/html": [
       "<div>\n",
       "<style scoped>\n",
       "    .dataframe tbody tr th:only-of-type {\n",
       "        vertical-align: middle;\n",
       "    }\n",
       "\n",
       "    .dataframe tbody tr th {\n",
       "        vertical-align: top;\n",
       "    }\n",
       "\n",
       "    .dataframe thead th {\n",
       "        text-align: right;\n",
       "    }\n",
       "</style>\n",
       "<table border=\"1\" class=\"dataframe\">\n",
       "  <thead>\n",
       "    <tr style=\"text-align: right;\">\n",
       "      <th></th>\n",
       "      <th>Description</th>\n",
       "      <th>UnitPrice</th>\n",
       "    </tr>\n",
       "  </thead>\n",
       "  <tbody>\n",
       "    <tr>\n",
       "      <th>222681</th>\n",
       "      <td>Manual</td>\n",
       "      <td>38970.0</td>\n",
       "    </tr>\n",
       "  </tbody>\n",
       "</table>\n",
       "</div>"
      ],
      "text/plain": [
       "       Description  UnitPrice\n",
       "222681      Manual    38970.0"
      ]
     },
     "execution_count": 79,
     "metadata": {},
     "output_type": "execute_result"
    }
   ],
   "source": [
    "# Highest priced product\n",
    "data[data['UnitPrice'] == data['UnitPrice'].max()][['Description', 'UnitPrice']]"
   ]
  },
  {
   "cell_type": "code",
   "execution_count": 81,
   "id": "53d5bf40",
   "metadata": {},
   "outputs": [
    {
     "data": {
      "text/html": [
       "<div>\n",
       "<style scoped>\n",
       "    .dataframe tbody tr th:only-of-type {\n",
       "        vertical-align: middle;\n",
       "    }\n",
       "\n",
       "    .dataframe tbody tr th {\n",
       "        vertical-align: top;\n",
       "    }\n",
       "\n",
       "    .dataframe thead th {\n",
       "        text-align: right;\n",
       "    }\n",
       "</style>\n",
       "<table border=\"1\" class=\"dataframe\">\n",
       "  <thead>\n",
       "    <tr style=\"text-align: right;\">\n",
       "      <th></th>\n",
       "      <th>Description</th>\n",
       "      <th>UnitPrice</th>\n",
       "    </tr>\n",
       "  </thead>\n",
       "  <tbody>\n",
       "    <tr>\n",
       "      <th>622</th>\n",
       "      <td>NaN</td>\n",
       "      <td>0.0</td>\n",
       "    </tr>\n",
       "    <tr>\n",
       "      <th>1970</th>\n",
       "      <td>NaN</td>\n",
       "      <td>0.0</td>\n",
       "    </tr>\n",
       "    <tr>\n",
       "      <th>1971</th>\n",
       "      <td>NaN</td>\n",
       "      <td>0.0</td>\n",
       "    </tr>\n",
       "    <tr>\n",
       "      <th>1972</th>\n",
       "      <td>NaN</td>\n",
       "      <td>0.0</td>\n",
       "    </tr>\n",
       "    <tr>\n",
       "      <th>1987</th>\n",
       "      <td>NaN</td>\n",
       "      <td>0.0</td>\n",
       "    </tr>\n",
       "    <tr>\n",
       "      <th>...</th>\n",
       "      <td>...</td>\n",
       "      <td>...</td>\n",
       "    </tr>\n",
       "    <tr>\n",
       "      <th>536981</th>\n",
       "      <td>NaN</td>\n",
       "      <td>0.0</td>\n",
       "    </tr>\n",
       "    <tr>\n",
       "      <th>538504</th>\n",
       "      <td>POLYESTER FILLER PAD 45x45cm</td>\n",
       "      <td>0.0</td>\n",
       "    </tr>\n",
       "    <tr>\n",
       "      <th>538505</th>\n",
       "      <td>POLYESTER FILLER PAD 40x40cm</td>\n",
       "      <td>0.0</td>\n",
       "    </tr>\n",
       "    <tr>\n",
       "      <th>538554</th>\n",
       "      <td>NaN</td>\n",
       "      <td>0.0</td>\n",
       "    </tr>\n",
       "    <tr>\n",
       "      <th>538919</th>\n",
       "      <td>smashed</td>\n",
       "      <td>0.0</td>\n",
       "    </tr>\n",
       "  </tbody>\n",
       "</table>\n",
       "<p>2515 rows × 2 columns</p>\n",
       "</div>"
      ],
      "text/plain": [
       "                         Description  UnitPrice\n",
       "622                              NaN        0.0\n",
       "1970                             NaN        0.0\n",
       "1971                             NaN        0.0\n",
       "1972                             NaN        0.0\n",
       "1987                             NaN        0.0\n",
       "...                              ...        ...\n",
       "536981                           NaN        0.0\n",
       "538504  POLYESTER FILLER PAD 45x45cm        0.0\n",
       "538505  POLYESTER FILLER PAD 40x40cm        0.0\n",
       "538554                           NaN        0.0\n",
       "538919                       smashed        0.0\n",
       "\n",
       "[2515 rows x 2 columns]"
      ]
     },
     "execution_count": 81,
     "metadata": {},
     "output_type": "execute_result"
    }
   ],
   "source": [
    "# Lowest priced product\n",
    "data2 = data.drop(data.index[data['Description'] == 'Adjust bad debt']) # Dropping 'Adjust bad debt' because it is not a product\n",
    "data2[data2['UnitPrice'] == data2['UnitPrice'].min()][['Description', 'UnitPrice']]  #All the products priced 0 pounds"
   ]
  },
  {
   "cell_type": "code",
   "execution_count": 84,
   "id": "34d9ac9e",
   "metadata": {},
   "outputs": [
    {
     "data": {
      "text/plain": [
       "(377,)"
      ]
     },
     "execution_count": 84,
     "metadata": {},
     "output_type": "execute_result"
    }
   ],
   "source": [
    "data2[data2['UnitPrice'] == data2['UnitPrice'].min()]['Description'].unique().shape"
   ]
  },
  {
   "cell_type": "code",
   "execution_count": 87,
   "id": "3ad4b26a",
   "metadata": {},
   "outputs": [],
   "source": [
    "prod_vol = data.groupby('Description')['Quantity'].sum()"
   ]
  },
  {
   "cell_type": "code",
   "execution_count": 89,
   "id": "0b0e781b",
   "metadata": {},
   "outputs": [
    {
     "data": {
      "text/plain": [
       "Description\n",
       "WORLD WAR 2 GLIDERS ASSTD DESIGNS    53847\n",
       "Name: Quantity, dtype: int64"
      ]
     },
     "execution_count": 89,
     "metadata": {},
     "output_type": "execute_result"
    }
   ],
   "source": [
    "# Highest sold product\n",
    "prod_vol[prod_vol == prod_vol.max()]"
   ]
  },
  {
   "cell_type": "code",
   "execution_count": 90,
   "id": "cd9b9576",
   "metadata": {},
   "outputs": [
    {
     "data": {
      "text/plain": [
       "Description\n",
       "printing smudges/thrown away   -19200\n",
       "Name: Quantity, dtype: int64"
      ]
     },
     "execution_count": 90,
     "metadata": {},
     "output_type": "execute_result"
    }
   ],
   "source": [
    "# Lowest sold product\n",
    "prod_vol[prod_vol == prod_vol.min()]"
   ]
  },
  {
   "cell_type": "code",
   "execution_count": 92,
   "id": "34a88eae",
   "metadata": {},
   "outputs": [
    {
     "data": {
      "image/png": "[encoded data removed]",
      "text/plain": [
       "<Figure size 432x288 with 1 Axes>"
      ]
     },
     "metadata": {
      "needs_background": "light"
     },
     "output_type": "display_data"
    }
   ],
   "source": [
    "data[data['Description'] == 'printing smudges/thrown away'].boxplot()\n",
    "plt.show()"
   ]
  },
  {
   "cell_type": "markdown",
   "id": "a0b1508c",
   "metadata": {},
   "source": [
    "## Unique Descriptions per StockCode. How to do this?"
   ]
  },
  {
   "cell_type": "code",
   "execution_count": 56,
   "id": "4049f1a8",
   "metadata": {},
   "outputs": [
    {
     "name": "stdout",
     "output_type": "stream",
     "text": [
      "2313\n"
     ]
    },
    {
     "data": {
      "text/plain": [
       "Index(['85123A'], dtype='object', name='StockCode')"
      ]
     },
     "execution_count": 56,
     "metadata": {},
     "output_type": "execute_result"
    }
   ],
   "source": [
    "## Unique Descriptions per StockCode.\n",
    "a = data.groupby('StockCode').count()['Description'].(pd.Series.nunique)\n",
    "(a[a>=2])\n",
    "print(a.max())\n",
    "a[a == a.max()].index"
   ]
  },
  {
   "cell_type": "code",
   "execution_count": 57,
   "id": "42981568",
   "metadata": {},
   "outputs": [
    {
     "data": {
      "text/plain": [
       "WHITE HANGING HEART T-LIGHT HOLDER    2302\n",
       "CREAM HANGING HEART T-LIGHT HOLDER       9\n",
       "?                                        1\n",
       "wrongly marked carton 22804              1\n",
       "Name: Description, dtype: int64"
      ]
     },
     "execution_count": 57,
     "metadata": {},
     "output_type": "execute_result"
    }
   ],
   "source": [
    "data[data['StockCode'] == '85123A']['Description'].value_counts()"
   ]
  },
  {
   "cell_type": "code",
   "execution_count": 59,
   "id": "f85b704f",
   "metadata": {},
   "outputs": [
    {
     "data": {
      "text/plain": [
       "28.83486930379861"
      ]
     },
     "execution_count": 59,
     "metadata": {},
     "output_type": "execute_result"
    }
   ],
   "source": [
    "# ARU\n",
    "(data.groupby(['CustomerID'])['Revenue'].mean()).mean()"
   ]
  },
  {
   "cell_type": "code",
   "execution_count": 60,
   "id": "5a46fc20",
   "metadata": {},
   "outputs": [
    {
     "data": {
      "text/plain": [
       "3861.0"
      ]
     },
     "execution_count": 60,
     "metadata": {},
     "output_type": "execute_result"
    }
   ],
   "source": [
    "# Max spend by a customer\n",
    "(data.groupby(['CustomerID'])['Revenue'].mean()).max()"
   ]
  },
  {
   "cell_type": "code",
   "execution_count": 64,
   "id": "21834abb",
   "metadata": {},
   "outputs": [
    {
     "data": {
      "text/plain": [
       "-4287.63"
      ]
     },
     "execution_count": 64,
     "metadata": {},
     "output_type": "execute_result"
    }
   ],
   "source": [
    "(data.groupby(['CustomerID'])['Revenue'].mean()).min()"
   ]
  },
  {
   "cell_type": "markdown",
   "id": "4e23148b",
   "metadata": {},
   "source": [
    "# COHORT ANALYSIS"
   ]
  },
  {
   "cell_type": "markdown",
   "id": "18dc52d3",
   "metadata": {},
   "source": [
    "## Time cohorts"
   ]
  },
  {
   "cell_type": "markdown",
   "id": "281a0831",
   "metadata": {},
   "source": [
    "### Assigining the acquisition month - The first transaction amde by the customer in the database will be considered as acquisition day. "
   ]
  },
  {
   "cell_type": "code",
   "execution_count": 5,
   "id": "9107a4db",
   "metadata": {},
   "outputs": [],
   "source": [
    "def get_month(x):\n",
    "    return dt.datetime(x.year, x.month, 1)"
   ]
  },
  {
   "cell_type": "code",
   "execution_count": 8,
   "id": "336a5557",
   "metadata": {},
   "outputs": [],
   "source": [
    "data['InvoiceMonth2'] = data['InvoiceDate'].dt.month\n",
    "data['InvoiceMonth'] = data['InvoiceDate'].apply(get_month)"
   ]
  },
  {
   "cell_type": "code",
   "execution_count": 10,
   "id": "c0dfc273",
   "metadata": {},
   "outputs": [
    {
     "data": {
      "text/html": [
       "<div>\n",
       "<style scoped>\n",
       "    .dataframe tbody tr th:only-of-type {\n",
       "        vertical-align: middle;\n",
       "    }\n",
       "\n",
       "    .dataframe tbody tr th {\n",
       "        vertical-align: top;\n",
       "    }\n",
       "\n",
       "    .dataframe thead th {\n",
       "        text-align: right;\n",
       "    }\n",
       "</style>\n",
       "<table border=\"1\" class=\"dataframe\">\n",
       "  <thead>\n",
       "    <tr style=\"text-align: right;\">\n",
       "      <th></th>\n",
       "      <th>InvoiceMonth</th>\n",
       "      <th>InvoiceMonth2</th>\n",
       "    </tr>\n",
       "  </thead>\n",
       "  <tbody>\n",
       "    <tr>\n",
       "      <th>0</th>\n",
       "      <td>2010-12-01</td>\n",
       "      <td>12</td>\n",
       "    </tr>\n",
       "    <tr>\n",
       "      <th>1</th>\n",
       "      <td>2010-12-01</td>\n",
       "      <td>12</td>\n",
       "    </tr>\n",
       "    <tr>\n",
       "      <th>2</th>\n",
       "      <td>2010-12-01</td>\n",
       "      <td>12</td>\n",
       "    </tr>\n",
       "    <tr>\n",
       "      <th>3</th>\n",
       "      <td>2010-12-01</td>\n",
       "      <td>12</td>\n",
       "    </tr>\n",
       "    <tr>\n",
       "      <th>4</th>\n",
       "      <td>2010-12-01</td>\n",
       "      <td>12</td>\n",
       "    </tr>\n",
       "    <tr>\n",
       "      <th>...</th>\n",
       "      <td>...</td>\n",
       "      <td>...</td>\n",
       "    </tr>\n",
       "    <tr>\n",
       "      <th>541904</th>\n",
       "      <td>2011-12-01</td>\n",
       "      <td>12</td>\n",
       "    </tr>\n",
       "    <tr>\n",
       "      <th>541905</th>\n",
       "      <td>2011-12-01</td>\n",
       "      <td>12</td>\n",
       "    </tr>\n",
       "    <tr>\n",
       "      <th>541906</th>\n",
       "      <td>2011-12-01</td>\n",
       "      <td>12</td>\n",
       "    </tr>\n",
       "    <tr>\n",
       "      <th>541907</th>\n",
       "      <td>2011-12-01</td>\n",
       "      <td>12</td>\n",
       "    </tr>\n",
       "    <tr>\n",
       "      <th>541908</th>\n",
       "      <td>2011-12-01</td>\n",
       "      <td>12</td>\n",
       "    </tr>\n",
       "  </tbody>\n",
       "</table>\n",
       "<p>541909 rows × 2 columns</p>\n",
       "</div>"
      ],
      "text/plain": [
       "       InvoiceMonth  InvoiceMonth2\n",
       "0        2010-12-01             12\n",
       "1        2010-12-01             12\n",
       "2        2010-12-01             12\n",
       "3        2010-12-01             12\n",
       "4        2010-12-01             12\n",
       "...             ...            ...\n",
       "541904   2011-12-01             12\n",
       "541905   2011-12-01             12\n",
       "541906   2011-12-01             12\n",
       "541907   2011-12-01             12\n",
       "541908   2011-12-01             12\n",
       "\n",
       "[541909 rows x 2 columns]"
      ]
     },
     "execution_count": 10,
     "metadata": {},
     "output_type": "execute_result"
    }
   ],
   "source": [
    "data[['InvoiceMonth', 'InvoiceMonth2']]"
   ]
  },
  {
   "cell_type": "code",
   "execution_count": 13,
   "id": "f18ffca6",
   "metadata": {},
   "outputs": [],
   "source": [
    "group = data.groupby('CustomerID')['InvoiceMonth']\n",
    "data['CohortMonth'] = group.transform('min')"
   ]
  },
  {
   "cell_type": "code",
   "execution_count": 14,
   "id": "de341816",
   "metadata": {},
   "outputs": [
    {
     "data": {
      "text/html": [
       "<div>\n",
       "<style scoped>\n",
       "    .dataframe tbody tr th:only-of-type {\n",
       "        vertical-align: middle;\n",
       "    }\n",
       "\n",
       "    .dataframe tbody tr th {\n",
       "        vertical-align: top;\n",
       "    }\n",
       "\n",
       "    .dataframe thead th {\n",
       "        text-align: right;\n",
       "    }\n",
       "</style>\n",
       "<table border=\"1\" class=\"dataframe\">\n",
       "  <thead>\n",
       "    <tr style=\"text-align: right;\">\n",
       "      <th></th>\n",
       "      <th>InvoiceNo</th>\n",
       "      <th>StockCode</th>\n",
       "      <th>Description</th>\n",
       "      <th>Quantity</th>\n",
       "      <th>InvoiceDate</th>\n",
       "      <th>UnitPrice</th>\n",
       "      <th>CustomerID</th>\n",
       "      <th>Country</th>\n",
       "      <th>InvoiceMonth2</th>\n",
       "      <th>InvoiceMonth</th>\n",
       "      <th>CohortMonth</th>\n",
       "    </tr>\n",
       "  </thead>\n",
       "  <tbody>\n",
       "    <tr>\n",
       "      <th>0</th>\n",
       "      <td>536365</td>\n",
       "      <td>85123A</td>\n",
       "      <td>WHITE HANGING HEART T-LIGHT HOLDER</td>\n",
       "      <td>6</td>\n",
       "      <td>2010-12-01 08:26:00</td>\n",
       "      <td>2.55</td>\n",
       "      <td>17850.0</td>\n",
       "      <td>United Kingdom</td>\n",
       "      <td>12</td>\n",
       "      <td>2010-12-01</td>\n",
       "      <td>2010-12-01</td>\n",
       "    </tr>\n",
       "    <tr>\n",
       "      <th>1</th>\n",
       "      <td>536365</td>\n",
       "      <td>71053</td>\n",
       "      <td>WHITE METAL LANTERN</td>\n",
       "      <td>6</td>\n",
       "      <td>2010-12-01 08:26:00</td>\n",
       "      <td>3.39</td>\n",
       "      <td>17850.0</td>\n",
       "      <td>United Kingdom</td>\n",
       "      <td>12</td>\n",
       "      <td>2010-12-01</td>\n",
       "      <td>2010-12-01</td>\n",
       "    </tr>\n",
       "    <tr>\n",
       "      <th>2</th>\n",
       "      <td>536365</td>\n",
       "      <td>84406B</td>\n",
       "      <td>CREAM CUPID HEARTS COAT HANGER</td>\n",
       "      <td>8</td>\n",
       "      <td>2010-12-01 08:26:00</td>\n",
       "      <td>2.75</td>\n",
       "      <td>17850.0</td>\n",
       "      <td>United Kingdom</td>\n",
       "      <td>12</td>\n",
       "      <td>2010-12-01</td>\n",
       "      <td>2010-12-01</td>\n",
       "    </tr>\n",
       "    <tr>\n",
       "      <th>3</th>\n",
       "      <td>536365</td>\n",
       "      <td>84029G</td>\n",
       "      <td>KNITTED UNION FLAG HOT WATER BOTTLE</td>\n",
       "      <td>6</td>\n",
       "      <td>2010-12-01 08:26:00</td>\n",
       "      <td>3.39</td>\n",
       "      <td>17850.0</td>\n",
       "      <td>United Kingdom</td>\n",
       "      <td>12</td>\n",
       "      <td>2010-12-01</td>\n",
       "      <td>2010-12-01</td>\n",
       "    </tr>\n",
       "    <tr>\n",
       "      <th>4</th>\n",
       "      <td>536365</td>\n",
       "      <td>84029E</td>\n",
       "      <td>RED WOOLLY HOTTIE WHITE HEART.</td>\n",
       "      <td>6</td>\n",
       "      <td>2010-12-01 08:26:00</td>\n",
       "      <td>3.39</td>\n",
       "      <td>17850.0</td>\n",
       "      <td>United Kingdom</td>\n",
       "      <td>12</td>\n",
       "      <td>2010-12-01</td>\n",
       "      <td>2010-12-01</td>\n",
       "    </tr>\n",
       "  </tbody>\n",
       "</table>\n",
       "</div>"
      ],
      "text/plain": [
       "  InvoiceNo StockCode                          Description  Quantity  \\\n",
       "0    536365    85123A   WHITE HANGING HEART T-LIGHT HOLDER         6   \n",
       "1    536365     71053                  WHITE METAL LANTERN         6   \n",
       "2    536365    84406B       CREAM CUPID HEARTS COAT HANGER         8   \n",
       "3    536365    84029G  KNITTED UNION FLAG HOT WATER BOTTLE         6   \n",
       "4    536365    84029E       RED WOOLLY HOTTIE WHITE HEART.         6   \n",
       "\n",
       "          InvoiceDate  UnitPrice CustomerID         Country  InvoiceMonth2  \\\n",
       "0 2010-12-01 08:26:00       2.55    17850.0  United Kingdom             12   \n",
       "1 2010-12-01 08:26:00       3.39    17850.0  United Kingdom             12   \n",
       "2 2010-12-01 08:26:00       2.75    17850.0  United Kingdom             12   \n",
       "3 2010-12-01 08:26:00       3.39    17850.0  United Kingdom             12   \n",
       "4 2010-12-01 08:26:00       3.39    17850.0  United Kingdom             12   \n",
       "\n",
       "  InvoiceMonth CohortMonth  \n",
       "0   2010-12-01  2010-12-01  \n",
       "1   2010-12-01  2010-12-01  \n",
       "2   2010-12-01  2010-12-01  \n",
       "3   2010-12-01  2010-12-01  \n",
       "4   2010-12-01  2010-12-01  "
      ]
     },
     "execution_count": 14,
     "metadata": {},
     "output_type": "execute_result"
    }
   ],
   "source": [
    "data.head()"
   ]
  },
  {
   "cell_type": "markdown",
   "id": "c05f035e",
   "metadata": {},
   "source": [
    "#### Calculating time since acquisition"
   ]
  },
  {
   "cell_type": "code",
   "execution_count": 16,
   "id": "87726676",
   "metadata": {},
   "outputs": [],
   "source": [
    "def tenure(df, column):\n",
    "    day = df[column].dt.day\n",
    "    month = df[column].dt.month\n",
    "    year = df[column].dt.year\n",
    "    return day, month, year"
   ]
  },
  {
   "cell_type": "code",
   "execution_count": 17,
   "id": "6dd8bf2e",
   "metadata": {},
   "outputs": [],
   "source": [
    "# Calculating difference between any transaction and first transaction of each customer i.e. tenure in months\n",
    "data['Tenure'] = (data['InvoiceMonth'].dt.year - data['CohortMonth'].dt.year)*12 + (data['InvoiceMonth'].dt.month - data['CohortMonth'].dt.month) + 1"
   ]
  },
  {
   "cell_type": "code",
   "execution_count": 18,
   "id": "96a984af",
   "metadata": {},
   "outputs": [
    {
     "data": {
      "text/html": [
       "<div>\n",
       "<style scoped>\n",
       "    .dataframe tbody tr th:only-of-type {\n",
       "        vertical-align: middle;\n",
       "    }\n",
       "\n",
       "    .dataframe tbody tr th {\n",
       "        vertical-align: top;\n",
       "    }\n",
       "\n",
       "    .dataframe thead th {\n",
       "        text-align: right;\n",
       "    }\n",
       "</style>\n",
       "<table border=\"1\" class=\"dataframe\">\n",
       "  <thead>\n",
       "    <tr style=\"text-align: right;\">\n",
       "      <th></th>\n",
       "      <th>InvoiceNo</th>\n",
       "      <th>StockCode</th>\n",
       "      <th>Description</th>\n",
       "      <th>Quantity</th>\n",
       "      <th>InvoiceDate</th>\n",
       "      <th>UnitPrice</th>\n",
       "      <th>CustomerID</th>\n",
       "      <th>Country</th>\n",
       "      <th>InvoiceMonth2</th>\n",
       "      <th>InvoiceMonth</th>\n",
       "      <th>CohortMonth</th>\n",
       "      <th>Tenure</th>\n",
       "    </tr>\n",
       "  </thead>\n",
       "  <tbody>\n",
       "    <tr>\n",
       "      <th>0</th>\n",
       "      <td>536365</td>\n",
       "      <td>85123A</td>\n",
       "      <td>WHITE HANGING HEART T-LIGHT HOLDER</td>\n",
       "      <td>6</td>\n",
       "      <td>2010-12-01 08:26:00</td>\n",
       "      <td>2.55</td>\n",
       "      <td>17850.0</td>\n",
       "      <td>United Kingdom</td>\n",
       "      <td>12</td>\n",
       "      <td>2010-12-01</td>\n",
       "      <td>2010-12-01</td>\n",
       "      <td>1</td>\n",
       "    </tr>\n",
       "    <tr>\n",
       "      <th>1</th>\n",
       "      <td>536365</td>\n",
       "      <td>71053</td>\n",
       "      <td>WHITE METAL LANTERN</td>\n",
       "      <td>6</td>\n",
       "      <td>2010-12-01 08:26:00</td>\n",
       "      <td>3.39</td>\n",
       "      <td>17850.0</td>\n",
       "      <td>United Kingdom</td>\n",
       "      <td>12</td>\n",
       "      <td>2010-12-01</td>\n",
       "      <td>2010-12-01</td>\n",
       "      <td>1</td>\n",
       "    </tr>\n",
       "    <tr>\n",
       "      <th>2</th>\n",
       "      <td>536365</td>\n",
       "      <td>84406B</td>\n",
       "      <td>CREAM CUPID HEARTS COAT HANGER</td>\n",
       "      <td>8</td>\n",
       "      <td>2010-12-01 08:26:00</td>\n",
       "      <td>2.75</td>\n",
       "      <td>17850.0</td>\n",
       "      <td>United Kingdom</td>\n",
       "      <td>12</td>\n",
       "      <td>2010-12-01</td>\n",
       "      <td>2010-12-01</td>\n",
       "      <td>1</td>\n",
       "    </tr>\n",
       "    <tr>\n",
       "      <th>3</th>\n",
       "      <td>536365</td>\n",
       "      <td>84029G</td>\n",
       "      <td>KNITTED UNION FLAG HOT WATER BOTTLE</td>\n",
       "      <td>6</td>\n",
       "      <td>2010-12-01 08:26:00</td>\n",
       "      <td>3.39</td>\n",
       "      <td>17850.0</td>\n",
       "      <td>United Kingdom</td>\n",
       "      <td>12</td>\n",
       "      <td>2010-12-01</td>\n",
       "      <td>2010-12-01</td>\n",
       "      <td>1</td>\n",
       "    </tr>\n",
       "    <tr>\n",
       "      <th>4</th>\n",
       "      <td>536365</td>\n",
       "      <td>84029E</td>\n",
       "      <td>RED WOOLLY HOTTIE WHITE HEART.</td>\n",
       "      <td>6</td>\n",
       "      <td>2010-12-01 08:26:00</td>\n",
       "      <td>3.39</td>\n",
       "      <td>17850.0</td>\n",
       "      <td>United Kingdom</td>\n",
       "      <td>12</td>\n",
       "      <td>2010-12-01</td>\n",
       "      <td>2010-12-01</td>\n",
       "      <td>1</td>\n",
       "    </tr>\n",
       "  </tbody>\n",
       "</table>\n",
       "</div>"
      ],
      "text/plain": [
       "  InvoiceNo StockCode                          Description  Quantity  \\\n",
       "0    536365    85123A   WHITE HANGING HEART T-LIGHT HOLDER         6   \n",
       "1    536365     71053                  WHITE METAL LANTERN         6   \n",
       "2    536365    84406B       CREAM CUPID HEARTS COAT HANGER         8   \n",
       "3    536365    84029G  KNITTED UNION FLAG HOT WATER BOTTLE         6   \n",
       "4    536365    84029E       RED WOOLLY HOTTIE WHITE HEART.         6   \n",
       "\n",
       "          InvoiceDate  UnitPrice CustomerID         Country  InvoiceMonth2  \\\n",
       "0 2010-12-01 08:26:00       2.55    17850.0  United Kingdom             12   \n",
       "1 2010-12-01 08:26:00       3.39    17850.0  United Kingdom             12   \n",
       "2 2010-12-01 08:26:00       2.75    17850.0  United Kingdom             12   \n",
       "3 2010-12-01 08:26:00       3.39    17850.0  United Kingdom             12   \n",
       "4 2010-12-01 08:26:00       3.39    17850.0  United Kingdom             12   \n",
       "\n",
       "  InvoiceMonth CohortMonth  Tenure  \n",
       "0   2010-12-01  2010-12-01       1  \n",
       "1   2010-12-01  2010-12-01       1  \n",
       "2   2010-12-01  2010-12-01       1  \n",
       "3   2010-12-01  2010-12-01       1  \n",
       "4   2010-12-01  2010-12-01       1  "
      ]
     },
     "execution_count": 18,
     "metadata": {},
     "output_type": "execute_result"
    }
   ],
   "source": [
    "data.head()"
   ]
  },
  {
   "cell_type": "markdown",
   "id": "b6d172d7",
   "metadata": {},
   "source": [
    "### Analyzing retention, quantity, price and revenue trends across different cohorts across their tenure"
   ]
  },
  {
   "cell_type": "code",
   "execution_count": 39,
   "id": "26aafc4d",
   "metadata": {},
   "outputs": [],
   "source": [
    "group = data.groupby(['CohortMonth', 'Tenure'])"
   ]
  },
  {
   "cell_type": "markdown",
   "id": "7af387df",
   "metadata": {},
   "source": [
    "#### Calculating the number of customers for every month across their tenure i.e. we want to know how many customers are shopping in the subsequent months since their acquisition"
   ]
  },
  {
   "cell_type": "code",
   "execution_count": 40,
   "id": "7a61098b",
   "metadata": {},
   "outputs": [],
   "source": [
    "cust_num = group['CustomerID'].apply(pd.Series.nunique)"
   ]
  },
  {
   "cell_type": "code",
   "execution_count": 41,
   "id": "743151a9",
   "metadata": {},
   "outputs": [
    {
     "data": {
      "text/plain": [
       "CohortMonth  Tenure\n",
       "2010-12-01   1         949\n",
       "             2         363\n",
       "             3         318\n",
       "             4         368\n",
       "             5         342\n",
       "                      ... \n",
       "2011-10-01   2          93\n",
       "             3          46\n",
       "2011-11-01   1         321\n",
       "             2          43\n",
       "2011-12-01   1          41\n",
       "Name: CustomerID, Length: 91, dtype: int64"
      ]
     },
     "execution_count": 41,
     "metadata": {},
     "output_type": "execute_result"
    }
   ],
   "source": [
    "cust_num"
   ]
  },
  {
   "cell_type": "code",
   "execution_count": 43,
   "id": "9c1c4bed",
   "metadata": {},
   "outputs": [
    {
     "data": {
      "text/html": [
       "<div>\n",
       "<style scoped>\n",
       "    .dataframe tbody tr th:only-of-type {\n",
       "        vertical-align: middle;\n",
       "    }\n",
       "\n",
       "    .dataframe tbody tr th {\n",
       "        vertical-align: top;\n",
       "    }\n",
       "\n",
       "    .dataframe thead th {\n",
       "        text-align: right;\n",
       "    }\n",
       "</style>\n",
       "<table border=\"1\" class=\"dataframe\">\n",
       "  <thead>\n",
       "    <tr style=\"text-align: right;\">\n",
       "      <th></th>\n",
       "      <th>index</th>\n",
       "      <th>CohortMonth</th>\n",
       "      <th>Tenure</th>\n",
       "      <th>CustomerID</th>\n",
       "    </tr>\n",
       "  </thead>\n",
       "  <tbody>\n",
       "    <tr>\n",
       "      <th>0</th>\n",
       "      <td>0</td>\n",
       "      <td>2010-12-01</td>\n",
       "      <td>1</td>\n",
       "      <td>949</td>\n",
       "    </tr>\n",
       "    <tr>\n",
       "      <th>1</th>\n",
       "      <td>1</td>\n",
       "      <td>2010-12-01</td>\n",
       "      <td>2</td>\n",
       "      <td>363</td>\n",
       "    </tr>\n",
       "    <tr>\n",
       "      <th>2</th>\n",
       "      <td>2</td>\n",
       "      <td>2010-12-01</td>\n",
       "      <td>3</td>\n",
       "      <td>318</td>\n",
       "    </tr>\n",
       "    <tr>\n",
       "      <th>3</th>\n",
       "      <td>3</td>\n",
       "      <td>2010-12-01</td>\n",
       "      <td>4</td>\n",
       "      <td>368</td>\n",
       "    </tr>\n",
       "    <tr>\n",
       "      <th>4</th>\n",
       "      <td>4</td>\n",
       "      <td>2010-12-01</td>\n",
       "      <td>5</td>\n",
       "      <td>342</td>\n",
       "    </tr>\n",
       "    <tr>\n",
       "      <th>...</th>\n",
       "      <td>...</td>\n",
       "      <td>...</td>\n",
       "      <td>...</td>\n",
       "      <td>...</td>\n",
       "    </tr>\n",
       "    <tr>\n",
       "      <th>86</th>\n",
       "      <td>86</td>\n",
       "      <td>2011-10-01</td>\n",
       "      <td>2</td>\n",
       "      <td>93</td>\n",
       "    </tr>\n",
       "    <tr>\n",
       "      <th>87</th>\n",
       "      <td>87</td>\n",
       "      <td>2011-10-01</td>\n",
       "      <td>3</td>\n",
       "      <td>46</td>\n",
       "    </tr>\n",
       "    <tr>\n",
       "      <th>88</th>\n",
       "      <td>88</td>\n",
       "      <td>2011-11-01</td>\n",
       "      <td>1</td>\n",
       "      <td>321</td>\n",
       "    </tr>\n",
       "    <tr>\n",
       "      <th>89</th>\n",
       "      <td>89</td>\n",
       "      <td>2011-11-01</td>\n",
       "      <td>2</td>\n",
       "      <td>43</td>\n",
       "    </tr>\n",
       "    <tr>\n",
       "      <th>90</th>\n",
       "      <td>90</td>\n",
       "      <td>2011-12-01</td>\n",
       "      <td>1</td>\n",
       "      <td>41</td>\n",
       "    </tr>\n",
       "  </tbody>\n",
       "</table>\n",
       "<p>91 rows × 4 columns</p>\n",
       "</div>"
      ],
      "text/plain": [
       "    index CohortMonth  Tenure  CustomerID\n",
       "0       0  2010-12-01       1         949\n",
       "1       1  2010-12-01       2         363\n",
       "2       2  2010-12-01       3         318\n",
       "3       3  2010-12-01       4         368\n",
       "4       4  2010-12-01       5         342\n",
       "..    ...         ...     ...         ...\n",
       "86     86  2011-10-01       2          93\n",
       "87     87  2011-10-01       3          46\n",
       "88     88  2011-11-01       1         321\n",
       "89     89  2011-11-01       2          43\n",
       "90     90  2011-12-01       1          41\n",
       "\n",
       "[91 rows x 4 columns]"
      ]
     },
     "execution_count": 43,
     "metadata": {},
     "output_type": "execute_result"
    }
   ],
   "source": [
    "cust_num = cust_num.reset_index()   # Index to column conversion\n",
    "cust_num"
   ]
  },
  {
   "cell_type": "code",
   "execution_count": 47,
   "id": "b67cec0e",
   "metadata": {},
   "outputs": [
    {
     "data": {
      "text/html": [
       "<div>\n",
       "<style scoped>\n",
       "    .dataframe tbody tr th:only-of-type {\n",
       "        vertical-align: middle;\n",
       "    }\n",
       "\n",
       "    .dataframe tbody tr th {\n",
       "        vertical-align: top;\n",
       "    }\n",
       "\n",
       "    .dataframe thead th {\n",
       "        text-align: right;\n",
       "    }\n",
       "</style>\n",
       "<table border=\"1\" class=\"dataframe\">\n",
       "  <thead>\n",
       "    <tr style=\"text-align: right;\">\n",
       "      <th>Tenure</th>\n",
       "      <th>1</th>\n",
       "      <th>2</th>\n",
       "      <th>3</th>\n",
       "      <th>4</th>\n",
       "      <th>5</th>\n",
       "      <th>6</th>\n",
       "      <th>7</th>\n",
       "      <th>8</th>\n",
       "      <th>9</th>\n",
       "      <th>10</th>\n",
       "      <th>11</th>\n",
       "      <th>12</th>\n",
       "      <th>13</th>\n",
       "    </tr>\n",
       "    <tr>\n",
       "      <th>CohortMonth</th>\n",
       "      <th></th>\n",
       "      <th></th>\n",
       "      <th></th>\n",
       "      <th></th>\n",
       "      <th></th>\n",
       "      <th></th>\n",
       "      <th></th>\n",
       "      <th></th>\n",
       "      <th></th>\n",
       "      <th></th>\n",
       "      <th></th>\n",
       "      <th></th>\n",
       "      <th></th>\n",
       "    </tr>\n",
       "  </thead>\n",
       "  <tbody>\n",
       "    <tr>\n",
       "      <th>2010-12-01</th>\n",
       "      <td>949.0</td>\n",
       "      <td>363.0</td>\n",
       "      <td>318.0</td>\n",
       "      <td>368.0</td>\n",
       "      <td>342.0</td>\n",
       "      <td>377.0</td>\n",
       "      <td>361.0</td>\n",
       "      <td>337.0</td>\n",
       "      <td>337.0</td>\n",
       "      <td>375.0</td>\n",
       "      <td>355.0</td>\n",
       "      <td>475.0</td>\n",
       "      <td>261.0</td>\n",
       "    </tr>\n",
       "    <tr>\n",
       "      <th>2011-01-01</th>\n",
       "      <td>421.0</td>\n",
       "      <td>101.0</td>\n",
       "      <td>119.0</td>\n",
       "      <td>102.0</td>\n",
       "      <td>138.0</td>\n",
       "      <td>126.0</td>\n",
       "      <td>110.0</td>\n",
       "      <td>108.0</td>\n",
       "      <td>131.0</td>\n",
       "      <td>146.0</td>\n",
       "      <td>155.0</td>\n",
       "      <td>63.0</td>\n",
       "      <td>NaN</td>\n",
       "    </tr>\n",
       "    <tr>\n",
       "      <th>2011-02-01</th>\n",
       "      <td>380.0</td>\n",
       "      <td>94.0</td>\n",
       "      <td>73.0</td>\n",
       "      <td>106.0</td>\n",
       "      <td>102.0</td>\n",
       "      <td>94.0</td>\n",
       "      <td>97.0</td>\n",
       "      <td>107.0</td>\n",
       "      <td>98.0</td>\n",
       "      <td>119.0</td>\n",
       "      <td>35.0</td>\n",
       "      <td>NaN</td>\n",
       "      <td>NaN</td>\n",
       "    </tr>\n",
       "    <tr>\n",
       "      <th>2011-03-01</th>\n",
       "      <td>440.0</td>\n",
       "      <td>84.0</td>\n",
       "      <td>112.0</td>\n",
       "      <td>96.0</td>\n",
       "      <td>102.0</td>\n",
       "      <td>78.0</td>\n",
       "      <td>116.0</td>\n",
       "      <td>105.0</td>\n",
       "      <td>127.0</td>\n",
       "      <td>39.0</td>\n",
       "      <td>NaN</td>\n",
       "      <td>NaN</td>\n",
       "      <td>NaN</td>\n",
       "    </tr>\n",
       "    <tr>\n",
       "      <th>2011-04-01</th>\n",
       "      <td>299.0</td>\n",
       "      <td>68.0</td>\n",
       "      <td>66.0</td>\n",
       "      <td>63.0</td>\n",
       "      <td>62.0</td>\n",
       "      <td>71.0</td>\n",
       "      <td>69.0</td>\n",
       "      <td>78.0</td>\n",
       "      <td>25.0</td>\n",
       "      <td>NaN</td>\n",
       "      <td>NaN</td>\n",
       "      <td>NaN</td>\n",
       "      <td>NaN</td>\n",
       "    </tr>\n",
       "    <tr>\n",
       "      <th>2011-05-01</th>\n",
       "      <td>279.0</td>\n",
       "      <td>66.0</td>\n",
       "      <td>48.0</td>\n",
       "      <td>48.0</td>\n",
       "      <td>60.0</td>\n",
       "      <td>68.0</td>\n",
       "      <td>74.0</td>\n",
       "      <td>29.0</td>\n",
       "      <td>NaN</td>\n",
       "      <td>NaN</td>\n",
       "      <td>NaN</td>\n",
       "      <td>NaN</td>\n",
       "      <td>NaN</td>\n",
       "    </tr>\n",
       "    <tr>\n",
       "      <th>2011-06-01</th>\n",
       "      <td>235.0</td>\n",
       "      <td>49.0</td>\n",
       "      <td>44.0</td>\n",
       "      <td>64.0</td>\n",
       "      <td>58.0</td>\n",
       "      <td>79.0</td>\n",
       "      <td>24.0</td>\n",
       "      <td>NaN</td>\n",
       "      <td>NaN</td>\n",
       "      <td>NaN</td>\n",
       "      <td>NaN</td>\n",
       "      <td>NaN</td>\n",
       "      <td>NaN</td>\n",
       "    </tr>\n",
       "    <tr>\n",
       "      <th>2011-07-01</th>\n",
       "      <td>191.0</td>\n",
       "      <td>40.0</td>\n",
       "      <td>39.0</td>\n",
       "      <td>44.0</td>\n",
       "      <td>52.0</td>\n",
       "      <td>22.0</td>\n",
       "      <td>NaN</td>\n",
       "      <td>NaN</td>\n",
       "      <td>NaN</td>\n",
       "      <td>NaN</td>\n",
       "      <td>NaN</td>\n",
       "      <td>NaN</td>\n",
       "      <td>NaN</td>\n",
       "    </tr>\n",
       "    <tr>\n",
       "      <th>2011-08-01</th>\n",
       "      <td>167.0</td>\n",
       "      <td>42.0</td>\n",
       "      <td>42.0</td>\n",
       "      <td>42.0</td>\n",
       "      <td>23.0</td>\n",
       "      <td>NaN</td>\n",
       "      <td>NaN</td>\n",
       "      <td>NaN</td>\n",
       "      <td>NaN</td>\n",
       "      <td>NaN</td>\n",
       "      <td>NaN</td>\n",
       "      <td>NaN</td>\n",
       "      <td>NaN</td>\n",
       "    </tr>\n",
       "    <tr>\n",
       "      <th>2011-09-01</th>\n",
       "      <td>298.0</td>\n",
       "      <td>89.0</td>\n",
       "      <td>97.0</td>\n",
       "      <td>36.0</td>\n",
       "      <td>NaN</td>\n",
       "      <td>NaN</td>\n",
       "      <td>NaN</td>\n",
       "      <td>NaN</td>\n",
       "      <td>NaN</td>\n",
       "      <td>NaN</td>\n",
       "      <td>NaN</td>\n",
       "      <td>NaN</td>\n",
       "      <td>NaN</td>\n",
       "    </tr>\n",
       "    <tr>\n",
       "      <th>2011-10-01</th>\n",
       "      <td>352.0</td>\n",
       "      <td>93.0</td>\n",
       "      <td>46.0</td>\n",
       "      <td>NaN</td>\n",
       "      <td>NaN</td>\n",
       "      <td>NaN</td>\n",
       "      <td>NaN</td>\n",
       "      <td>NaN</td>\n",
       "      <td>NaN</td>\n",
       "      <td>NaN</td>\n",
       "      <td>NaN</td>\n",
       "      <td>NaN</td>\n",
       "      <td>NaN</td>\n",
       "    </tr>\n",
       "    <tr>\n",
       "      <th>2011-11-01</th>\n",
       "      <td>321.0</td>\n",
       "      <td>43.0</td>\n",
       "      <td>NaN</td>\n",
       "      <td>NaN</td>\n",
       "      <td>NaN</td>\n",
       "      <td>NaN</td>\n",
       "      <td>NaN</td>\n",
       "      <td>NaN</td>\n",
       "      <td>NaN</td>\n",
       "      <td>NaN</td>\n",
       "      <td>NaN</td>\n",
       "      <td>NaN</td>\n",
       "      <td>NaN</td>\n",
       "    </tr>\n",
       "    <tr>\n",
       "      <th>2011-12-01</th>\n",
       "      <td>41.0</td>\n",
       "      <td>NaN</td>\n",
       "      <td>NaN</td>\n",
       "      <td>NaN</td>\n",
       "      <td>NaN</td>\n",
       "      <td>NaN</td>\n",
       "      <td>NaN</td>\n",
       "      <td>NaN</td>\n",
       "      <td>NaN</td>\n",
       "      <td>NaN</td>\n",
       "      <td>NaN</td>\n",
       "      <td>NaN</td>\n",
       "      <td>NaN</td>\n",
       "    </tr>\n",
       "  </tbody>\n",
       "</table>\n",
       "</div>"
      ],
      "text/plain": [
       "Tenure          1      2      3      4      5      6      7      8      9   \\\n",
       "CohortMonth                                                                  \n",
       "2010-12-01   949.0  363.0  318.0  368.0  342.0  377.0  361.0  337.0  337.0   \n",
       "2011-01-01   421.0  101.0  119.0  102.0  138.0  126.0  110.0  108.0  131.0   \n",
       "2011-02-01   380.0   94.0   73.0  106.0  102.0   94.0   97.0  107.0   98.0   \n",
       "2011-03-01   440.0   84.0  112.0   96.0  102.0   78.0  116.0  105.0  127.0   \n",
       "2011-04-01   299.0   68.0   66.0   63.0   62.0   71.0   69.0   78.0   25.0   \n",
       "2011-05-01   279.0   66.0   48.0   48.0   60.0   68.0   74.0   29.0    NaN   \n",
       "2011-06-01   235.0   49.0   44.0   64.0   58.0   79.0   24.0    NaN    NaN   \n",
       "2011-07-01   191.0   40.0   39.0   44.0   52.0   22.0    NaN    NaN    NaN   \n",
       "2011-08-01   167.0   42.0   42.0   42.0   23.0    NaN    NaN    NaN    NaN   \n",
       "2011-09-01   298.0   89.0   97.0   36.0    NaN    NaN    NaN    NaN    NaN   \n",
       "2011-10-01   352.0   93.0   46.0    NaN    NaN    NaN    NaN    NaN    NaN   \n",
       "2011-11-01   321.0   43.0    NaN    NaN    NaN    NaN    NaN    NaN    NaN   \n",
       "2011-12-01    41.0    NaN    NaN    NaN    NaN    NaN    NaN    NaN    NaN   \n",
       "\n",
       "Tenure          10     11     12     13  \n",
       "CohortMonth                              \n",
       "2010-12-01   375.0  355.0  475.0  261.0  \n",
       "2011-01-01   146.0  155.0   63.0    NaN  \n",
       "2011-02-01   119.0   35.0    NaN    NaN  \n",
       "2011-03-01    39.0    NaN    NaN    NaN  \n",
       "2011-04-01     NaN    NaN    NaN    NaN  \n",
       "2011-05-01     NaN    NaN    NaN    NaN  \n",
       "2011-06-01     NaN    NaN    NaN    NaN  \n",
       "2011-07-01     NaN    NaN    NaN    NaN  \n",
       "2011-08-01     NaN    NaN    NaN    NaN  \n",
       "2011-09-01     NaN    NaN    NaN    NaN  \n",
       "2011-10-01     NaN    NaN    NaN    NaN  \n",
       "2011-11-01     NaN    NaN    NaN    NaN  \n",
       "2011-12-01     NaN    NaN    NaN    NaN  "
      ]
     },
     "execution_count": 47,
     "metadata": {},
     "output_type": "execute_result"
    }
   ],
   "source": [
    "cohort_count = cust_num.pivot(columns = 'Tenure', index = 'CohortMonth', values = 'CustomerID')\n",
    "cohort_count"
   ]
  },
  {
   "cell_type": "code",
   "execution_count": 86,
   "id": "fe20e4f6",
   "metadata": {},
   "outputs": [],
   "source": [
    "cohort_size = cohort_count.iloc[:,0]\n",
    "cohort_retention = cohort_count.divide(cohort_size, axis = 0)\n",
    "#(cohort_retention*100).round(1)"
   ]
  },
  {
   "cell_type": "code",
   "execution_count": 87,
   "id": "7a00b7e1",
   "metadata": {},
   "outputs": [
    {
     "data": {
      "image/png": "[encoded data removed]",
      "text/plain": [
       "<Figure size 1440x720 with 2 Axes>"
      ]
     },
     "metadata": {
      "needs_background": "light"
     },
     "output_type": "display_data"
    }
   ],
   "source": [
    "plt.figure(figsize = (20,10))\n",
    "plt.title('Customer retention')\n",
    "sns.heatmap(data = cohort_retention, annot = True, fmt = '0.0%', vmin = 0, vmax = 0.5, cmap = 'coolwarm')\n",
    "plt.show()"
   ]
  },
  {
   "cell_type": "markdown",
   "id": "0c26bc64",
   "metadata": {},
   "source": [
    "#### This graph gives the % of customers who have returned in the subsequent months"
   ]
  },
  {
   "cell_type": "code",
   "execution_count": 48,
   "id": "226ec363",
   "metadata": {},
   "outputs": [],
   "source": [
    "#def metric_avg(col):\n",
    "#    return group[col].mean()"
   ]
  },
  {
   "cell_type": "code",
   "execution_count": 58,
   "id": "617a01a6",
   "metadata": {},
   "outputs": [],
   "source": [
    "#pivots = []\n",
    "#for i in ['Quantity', 'UnitPrice', 'Revenue']:\n",
    "#    metric = metric_avg(i)\n",
    "#    metric = metric.reset_index() \n",
    "#    metric_pivot = metric.pivot(columns = 'Tenure', index = 'CohortMonth', values = i)\n",
    "#    #print(f\"The cohort pivot for {i} is \\n {metric_pivot}\")\n",
    "#    pivots.append(metric_pivot)"
   ]
  },
  {
   "cell_type": "code",
   "execution_count": 81,
   "id": "a4fccc86",
   "metadata": {},
   "outputs": [],
   "source": [
    "quantity_avg = group['Quantity'].mean()\n",
    "quantity_avg = quantity_avg.reset_index()\n",
    "cohort_quant = quantity_avg.pivot(columns = 'Tenure', index = 'CohortMonth', values = 'Quantity')\n",
    "cohort_quant_start = cohort_quant.iloc[:,0]\n",
    "cohort_quant_cont = cohort_quant.divide(cohort_quant_start, axis = 0)\n",
    "#(cohort_quant_cont*100).round(1)"
   ]
  },
  {
   "cell_type": "code",
   "execution_count": 79,
   "id": "cefea780",
   "metadata": {},
   "outputs": [
    {
     "data": {
      "image/png": "[encoded data removed]",
      "text/plain": [
       "<Figure size 1440x720 with 2 Axes>"
      ]
     },
     "metadata": {
      "needs_background": "light"
     },
     "output_type": "display_data"
    }
   ],
   "source": [
    "plt.figure(figsize = (20,10))\n",
    "plt.title('Quantity retention')\n",
    "sns.heatmap(data = cohort_quant_cont, annot = True, fmt = '0.0%', vmin = 0, vmax = 1, cmap = 'coolwarm')\n",
    "sns.setxticklabels(data['CohortMonth'].dt.strftime('%d-%m-%Y'))\n",
    "plt.show()"
   ]
  },
  {
   "cell_type": "code",
   "execution_count": 83,
   "id": "f98693d2",
   "metadata": {},
   "outputs": [],
   "source": [
    "price_avg = group['UnitPrice'].mean()\n",
    "price_avg = price_avg.reset_index()\n",
    "cohort_price = price_avg.pivot(columns = 'Tenure', index = 'CohortMonth', values = 'UnitPrice')\n",
    "cohort_price_start = cohort_price.iloc[:,0]\n",
    "cohort_price_cont = cohort_price.divide(cohort_price_start, axis = 0)\n",
    "#(cohort_price_cont*100).round(1)"
   ]
  },
  {
   "cell_type": "code",
   "execution_count": 90,
   "id": "b6df3ec4",
   "metadata": {},
   "outputs": [
    {
     "data": {
      "image/png": "[encoded data removed]",
      "text/plain": [
       "<Figure size 1440x720 with 2 Axes>"
      ]
     },
     "metadata": {
      "needs_background": "light"
     },
     "output_type": "display_data"
    }
   ],
   "source": [
    "plt.figure(figsize = (20,10))\n",
    "plt.title('Price retention')\n",
    "sns.heatmap(data = cohort_price_cont, annot = True, fmt = '0.0%', vmin = 0, vmax = 1, cmap = 'coolwarm')\n",
    "plt.show()"
   ]
  },
  {
   "cell_type": "code",
   "execution_count": 84,
   "id": "aa26a11f",
   "metadata": {},
   "outputs": [],
   "source": [
    "rev_avg = group['Revenue'].mean()\n",
    "rev_avg = rev_avg.reset_index()\n",
    "cohort_rev = rev_avg.pivot(columns = 'Tenure', index = 'CohortMonth', values = 'Revenue')\n",
    "cohort_rev_start = cohort_rev.iloc[:,0]\n",
    "cohort_rev_cont = cohort_rev.divide(cohort_rev_start, axis = 0)\n",
    "#(cohort_rev_cont*100).round(1)"
   ]
  },
  {
   "cell_type": "code",
   "execution_count": 85,
   "id": "b91751f2",
   "metadata": {},
   "outputs": [
    {
     "data": {
      "image/png": "[encoded data removed]",
      "text/plain": [
       "<Figure size 1440x720 with 2 Axes>"
      ]
     },
     "metadata": {
      "needs_background": "light"
     },
     "output_type": "display_data"
    }
   ],
   "source": [
    "plt.figure(figsize = (20,10))\n",
    "plt.title('Revenue retention')\n",
    "sns.heatmap(data = cohort_rev_cont, annot = True, fmt = '0.0%', vmin = 0, vmax = 1, cmap = 'coolwarm')\n",
    "plt.show()"
   ]
  },
  {
   "cell_type": "code",
   "execution_count": 88,
   "id": "bfca0246",
   "metadata": {},
   "outputs": [],
   "source": [
    "#### Analyzing all the graphs it looks the organization has gone downhill from May 2011"
   ]
  },
  {
   "cell_type": "code",
   "execution_count": null,
   "id": "0ef46030",
   "metadata": {},
   "outputs": [],
   "source": []
  }
 ],
 "metadata": {
  "kernelspec": {
   "display_name": "Python 3",
   "language": "python",
   "name": "python3"
  },
  "language_info": {
   "codemirror_mode": {
    "name": "ipython",
    "version": 3
   },
   "file_extension": ".py",
   "mimetype": "text/x-python",
   "name": "python",
   "nbconvert_exporter": "python",
   "pygments_lexer": "ipython3",
   "version": "3.8.8"
  }
 },
 "nbformat": 4,
 "nbformat_minor": 5
}
